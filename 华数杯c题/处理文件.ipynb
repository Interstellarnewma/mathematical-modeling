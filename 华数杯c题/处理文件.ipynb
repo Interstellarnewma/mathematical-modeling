{
 "cells": [
  {
   "cell_type": "code",
   "execution_count": 1,
   "metadata": {},
   "outputs": [],
   "source": [
    "from sklearn.preprocessing import LabelEncoder## 标签编码器\n",
    "from sklearn.ensemble import RandomForestClassifier\n",
    "import pandas as pd\n",
    "import matplotlib.pyplot as plt\n",
    "import seaborn as sns\n",
    "from sklearn.metrics import confusion_matrix\n",
    "plt.rcParams[\"font.sans-serif\"]=[\"SimHei\"] #设置字体\n",
    "plt.rcParams[\"axes.unicode_minus\"]=False #该语句解决图像中的“-”负号的乱码问题\n",
    "#数据的加载"
   ]
  },
  {
   "cell_type": "code",
   "execution_count": null,
   "metadata": {},
   "outputs": [],
   "source": [
    "data=pd.read_excel(\"./附件.xlsx\")\n",
    "data\n",
    "data = data.iloc[:,0:15]\n",
    "data.columns = data.columns.str.strip()\n",
    "data\n",
    "data = data[data[\"婚姻状况\"].isin([1,2])]##在原始数据中存在题目中存在异常值因此删除\n",
    "data\n",
    "data[data[\"整晚睡眠时间（时：分：秒）\"] == \"99:99\"]\n",
    "data.drop([179], axis = 0, inplace = True)\n",
    "data\n",
    "resultPath = \"./第四题文件.xlsx\"\n",
    "data.to_excel(resultPath,sheet_name = \"汇总\",index = False)\n"
   ]
  }
 ],
 "metadata": {
  "kernelspec": {
   "display_name": "Python 3",
   "language": "python",
   "name": "python3"
  },
  "language_info": {
   "codemirror_mode": {
    "name": "ipython",
    "version": 3
   },
   "file_extension": ".py",
   "mimetype": "text/x-python",
   "name": "python",
   "nbconvert_exporter": "python",
   "pygments_lexer": "ipython3",
   "version": "3.8.5"
  }
 },
 "nbformat": 4,
 "nbformat_minor": 4
}
